{
 "metadata": {
  "language_info": {
   "codemirror_mode": {
    "name": "ipython",
    "version": 3
   },
   "file_extension": ".py",
   "mimetype": "text/x-python",
   "name": "python",
   "nbconvert_exporter": "python",
   "pygments_lexer": "ipython3",
   "version": "3.8.2-final"
  },
  "orig_nbformat": 2,
  "kernelspec": {
   "name": "python3",
   "display_name": "Python 3.8.2 64-bit",
   "metadata": {
    "interpreter": {
     "hash": "5edc29c2ed010d6458d71a83433b383a96a8cbd3efe8531bc90c4b8a5b8bcec9"
    }
   }
  }
 },
 "nbformat": 4,
 "nbformat_minor": 2,
 "cells": [
  {
   "cell_type": "code",
   "execution_count": 26,
   "metadata": {
    "tags": []
   },
   "outputs": [
    {
     "output_type": "stream",
     "name": "stdout",
     "text": [
      " 徐國勛/ 副教授兼系主任\nEmail: glenn@mail.ntcu.edu.tw\n個人網站：http://www.ntcu.edu.tw/glenn/\n辦公室電話：04-22183807\n 賴冠州/ 教授\nEmail: kclai@mail.ntcu.edu.tw\n個人網站：http://www.ntcu.edu.tw/kclai/\n辦公室電話：04-22183810\n 孔崇旭/ 教授\nEmail: csko@mail.ntcu.edu.tw\n個人網站：http://www.ntcu.edu.tw/csko/\n辦公室電話：04-22183804\n 張林煌/ 教授\nEmail: lchang@mail.ntcu.edu.tw\n個人網站：http://www.ntcu.edu.tw/lchang/\n辦公室電話：04-22183812\n 王讚彬/ 教授\nEmail: tpwang@mail.ntcu.edu.tw\n個人網站：http://www.ntcu.edu.tw/tpwang/\n辦公室電話：04-22183806\n 顧維祺/ 教授\nEmail: wcku@mail.ntcu.edu.tw\n個人網站：http://www.ntcu.edu.tw/wcku/\n辦公室電話：04-22183811\n 林嬿雯/ 教授\nEmail: ywlin@mail.ntcu.edu.tw\n個人網站：http://www.ntcu.edu.tw/ywlin/\n辦公室電話：04-22183809\n 黃國展/ 教授\nEmail: kchuang@mail.ntcu.edu.tw\n個人網站：http://www.ntcu.edu.tw/kchuang/\n辦公室電話：04-22183813\n 李宗翰/ 副教授\nEmail: thlee@mail.ntcu.edu.tw\n個人網站：https://sites.google.com/site/ntcuesl/home\n辦公室電話：04-22183801\n 李宜軒/ 助理教授\nEmail: yslee@mail.ntcu.edu.tw\n個人網站：http://www.ntcu.edu.tw/yslee/\n辦公室電話：04-22183808\n"
     ]
    }
   ],
   "source": [
    "from bs4 import BeautifulSoup\n",
    "import requests\n",
    "import os\n",
    "\n",
    "res = requests.get(\"https://cs.ntcu.edu.tw/introduce/member#teachers\")\n",
    "soup = BeautifulSoup( res.text, 'lxml')\n",
    "\n",
    "#professors = soup.select('div.col-12')\n",
    "for professor in soup.select('#teachers .col-12'):\n",
    "    name = professor.find('h5')\n",
    "    print(name.text)\n",
    "    for data in professor.find_all('li'):\n",
    "        print(data.text)\n",
    "\n",
    "    "
   ]
  },
  {
   "cell_type": "code",
   "execution_count": null,
   "metadata": {},
   "outputs": [],
   "source": []
  }
 ]
}
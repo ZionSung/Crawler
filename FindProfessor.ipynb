{
 "metadata": {
  "language_info": {
   "codemirror_mode": {
    "name": "ipython",
    "version": 3
   },
   "file_extension": ".py",
   "mimetype": "text/x-python",
   "name": "python",
   "nbconvert_exporter": "python",
   "pygments_lexer": "ipython3",
   "version": "3.6.9-final"
  },
  "orig_nbformat": 2,
  "kernelspec": {
   "name": "python3",
   "display_name": "Python 3",
   "language": "python"
  }
 },
 "nbformat": 4,
 "nbformat_minor": 2,
 "cells": [
  {
   "cell_type": "code",
   "execution_count": 132,
   "metadata": {
    "tags": []
   },
   "outputs": [
    {
     "output_type": "stream",
     "name": "stdout",
     "text": [
      "Name: 徐國勛/ 副教授兼系主任\nEmail: glenn@mail.ntcu.edu.tw\n個人網站：http://www.ntcu.edu.tw/glenn/\n辦公室電話：04-22183807\nName: 賴冠州/ 教授\nEmail: kclai@mail.ntcu.edu.tw\n個人網站：http://www.ntcu.edu.tw/kclai/\n辦公室電話：04-22183810\nName: 孔崇旭/ 教授\nEmail: csko@mail.ntcu.edu.tw\n個人網站：http://www.ntcu.edu.tw/csko/\n辦公室電話：04-22183804\nName: 張林煌/ 教授\nEmail: lchang@mail.ntcu.edu.tw\n個人網站：http://www.ntcu.edu.tw/lchang/\n辦公室電話：04-22183812\nName: 王讚彬/ 教授\nEmail: tpwang@mail.ntcu.edu.tw\n個人網站：http://www.ntcu.edu.tw/tpwang/\n辦公室電話：04-22183806\nName: 顧維祺/ 教授\nEmail: wcku@mail.ntcu.edu.tw\n個人網站：http://www.ntcu.edu.tw/wcku/\n辦公室電話：04-22183811\nName: 林嬿雯/ 教授\nEmail: ywlin@mail.ntcu.edu.tw\n個人網站：http://www.ntcu.edu.tw/ywlin/\n辦公室電話：04-22183809\nName: 黃國展/ 教授\nEmail: kchuang@mail.ntcu.edu.tw\n個人網站：http://www.ntcu.edu.tw/kchuang/\n辦公室電話：04-22183813\nName: 李宗翰/ 副教授\nEmail: thlee@mail.ntcu.edu.tw\n個人網站：https://sites.google.com/site/ntcuesl/home\n辦公室電話：04-22183801\nName: 李宜軒/ 助理教授\nEmail: yslee@mail.ntcu.edu.tw\n個人網站：http://www.ntcu.edu.tw/yslee/\n辦公室電話：04-22183808\n"
     ]
    }
   ],
   "source": [
    "from bs4 import BeautifulSoup\n",
    "import requests\n",
    "import os\n",
    "\n",
    "res = requests.get(\"https://cs.ntcu.edu.tw/introduce/member#teachers\")\n",
    "soup = BeautifulSoup( res.text, 'lxml')\n",
    "\n",
    "#professors = soup.select('div.col-12')\n",
    "for teacher in soup.select('#teachers .col-12'):\n",
    "    name = teacher.find('h5','pb-2').text.strip()\n",
    "    datas = teacher.find_all('li')\n",
    "    print(f'Name: {name}')\n",
    "\n",
    "    for index, data in enumerate(datas):\n",
    "        if index == 0:\n",
    "            email = data.text\n",
    "            print(email)\n",
    "        elif index == 1:\n",
    "            web = data.text\n",
    "            print(web)\n",
    "        elif index == 2:\n",
    "            phone = data.text\n",
    "            print(phone)\n",
    "    \n",
    "        \n",
    "    "
   ]
  },
  {
   "cell_type": "code",
   "execution_count": null,
   "metadata": {},
   "outputs": [],
   "source": []
  }
 ]
}
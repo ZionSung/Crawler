{
 "metadata": {
  "language_info": {
   "codemirror_mode": {
    "name": "ipython",
    "version": 3
   },
   "file_extension": ".py",
   "mimetype": "text/x-python",
   "name": "python",
   "nbconvert_exporter": "python",
   "pygments_lexer": "ipython3",
   "version": "3.8.2-final"
  },
  "orig_nbformat": 2,
  "kernelspec": {
   "name": "python3",
   "display_name": "Python 3.8.2 64-bit",
   "metadata": {
    "interpreter": {
     "hash": "31f2aee4e71d21fbe5cf8b01ff0e069b9275f58929596ceb00d14d90e3e16cd6"
    }
   }
  }
 },
 "nbformat": 4,
 "nbformat_minor": 2,
 "cells": [
  {
   "cell_type": "code",
   "execution_count": 69,
   "metadata": {},
   "outputs": [
    {
     "output_type": "stream",
     "name": "stdout",
     "text": [
      "=========\n",
      "22\n",
      "24\n",
      "=========\n",
      "22\n",
      "24\n",
      "=========\n",
      "22\n",
      "24\n",
      "=========\n",
      "22\n",
      "24\n",
      "=========\n",
      "22\n",
      "24\n",
      "=========\n",
      "21\n",
      "23\n",
      "=========\n",
      "21\n",
      "23\n",
      "first =  152\n",
      "second =  166\n"
     ]
    }
   ],
   "source": [
    "from bs4 import BeautifulSoup\n",
    "import requests\n",
    "import os\n",
    "\n",
    "totalFirst = 0\n",
    "totalSecond = 0\n",
    "\n",
    "# ex 18~24 -> 18~25(24+1)\n",
    "for date in range(18,25): \n",
    "\n",
    "\n",
    "    bus = \"323\" # change bus number\n",
    "    inputDate = '2021-01-' + str(date)\n",
    "    res = requests.get(f\"http://citybus.taichung.gov.tw/cms/api/route/{bus}/timetable?date={inputDate}\")\n",
    "    #\"http://citybus.taichung.gov.tw/cms/api/route/324/timetable?date=2021-01-18\"\n",
    "    soup = BeautifulSoup( res.text, 'lxml')\n",
    "    text = soup.text\n",
    "\n",
    "    print(\"=========\")\n",
    "\n",
    "    first = \"1,\"\n",
    "    print(text.count(first))\n",
    "\n",
    "    totalFirst = text.count(first) + totalFirst\n",
    "\n",
    "    second = \"2,\"\n",
    "    print(text.count(second))\n",
    "\n",
    "    totalSecond = text.count(second) + totalSecond\n",
    "\n",
    "print( \"first = \", totalFirst )\n",
    "print( \"second = \", totalSecond )\n"
   ]
  },
  {
   "cell_type": "code",
   "execution_count": null,
   "metadata": {},
   "outputs": [],
   "source": []
  }
 ]
}
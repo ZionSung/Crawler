{
 "metadata": {
  "language_info": {
   "codemirror_mode": {
    "name": "ipython",
    "version": 3
   },
   "file_extension": ".py",
   "mimetype": "text/x-python",
   "name": "python",
   "nbconvert_exporter": "python",
   "pygments_lexer": "ipython3",
   "version": "3.6.9-final"
  },
  "orig_nbformat": 2,
  "kernelspec": {
   "name": "python3",
   "display_name": "Python 3",
   "language": "python"
  }
 },
 "nbformat": 4,
 "nbformat_minor": 2,
 "cells": [
  {
   "cell_type": "code",
   "execution_count": 20,
   "metadata": {},
   "outputs": [],
   "source": [
    "from bs4 import BeautifulSoup\n",
    "import requests\n",
    "import os\n",
    "\n",
    "input_image = input(\"What picture you want to download?\")\n",
    "response = requests.get(f\"https://unsplash.com/s/photos/{input_image}\")\n",
    "soup = BeautifulSoup(response.text, \"lxml\")\n",
    "results = soup.find_all(\"img\", {\"class\": \"_2UpQX\"}, limit=3)\n",
    "image_links = [result.get(\"src\") for result in results]  # 取得圖片來源連結\n",
    "for i, link in enumerate(image_links):\n",
    "    if not os.path.exists(\"images\"):\n",
    "        os.mkdir(\"images\")  # 建立資料夾\n",
    " \n",
    "    img = requests.get(link)  # 下載圖片\n",
    "    with open(\"images/\" + input_image + str(i+1) + \".jpg\", \"wb\") as file:  # 開啟資料夾及命名圖片檔\n",
    "        file.write(img.content)  # 寫入圖片的二進位碼"
   ]
  },
  {
   "cell_type": "code",
   "execution_count": null,
   "metadata": {},
   "outputs": [],
   "source": []
  }
 ]
}